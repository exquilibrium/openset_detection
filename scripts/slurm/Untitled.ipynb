{
 "cells": [
  {
   "cell_type": "code",
   "execution_count": 1,
   "id": "9909ef4c",
   "metadata": {},
   "outputs": [],
   "source": [
    "import os\n",
    "from pathlib import Path\n",
    "from PIL import Image\n",
    "\n",
    "def yolo_to_voc(x_center, y_center, width, height, img_width, img_height):\n",
    "    x_center *= img_width\n",
    "    y_center *= img_height\n",
    "    width *= img_width\n",
    "    height *= img_height\n",
    "\n",
    "    xmin = int(x_center - width / 2)\n",
    "    ymin = int(y_center - height / 2)\n",
    "    xmax = int(x_center + width / 2)\n",
    "    ymax = int(y_center + height / 2)\n",
    "    return xmin, ymin, xmax, ymax\n",
    "\n",
    "def voc_to_yolo(xmin, ymin, xmax, ymax, img_width, img_height):\n",
    "    box_width = xmax - xmin\n",
    "    box_height = ymax - ymin\n",
    "    x_center = xmin + box_width / 2\n",
    "    y_center = ymin + box_height / 2\n",
    "\n",
    "    # Normalize\n",
    "    x_center /= img_width\n",
    "    y_center /= img_height\n",
    "    box_width /= img_width\n",
    "    box_height /= img_height\n",
    "\n",
    "    return x_center, y_center, box_width, box_height"
   ]
  },
  {
   "cell_type": "code",
   "execution_count": 7,
   "id": "697ac9ec",
   "metadata": {},
   "outputs": [
    {
     "name": "stdout",
     "output_type": "stream",
     "text": [
      "(0.564, 0.3495297805642633, 0.252, 0.1536050156739812)\n",
      "(219, 87, 345, 136)\n"
     ]
    }
   ],
   "source": [
    "imgw = 500\n",
    "imgh = 319\n",
    "\n",
    "xmin = 219\n",
    "ymin = 87\n",
    "xmax = 345\n",
    "ymax = 136\n",
    "print(voc_to_yolo(xmin, ymin, xmax, ymax, imgw, imgh))\n",
    "\n",
    "xc = 0.564\n",
    "yc = 0.3495297805642633\n",
    "xw = 0.252\n",
    "yh = 0.1536050156739812\n",
    "print(yolo_to_voc(xc, yc, xw, yh, imgw, imgh))\n"
   ]
  },
  {
   "cell_type": "code",
   "execution_count": null,
   "id": "11f9ddb8",
   "metadata": {},
   "outputs": [],
   "source": []
  }
 ],
 "metadata": {
  "kernelspec": {
   "display_name": "Python 3 (ipykernel)",
   "language": "python",
   "name": "python3"
  },
  "language_info": {
   "codemirror_mode": {
    "name": "ipython",
    "version": 3
   },
   "file_extension": ".py",
   "mimetype": "text/x-python",
   "name": "python",
   "nbconvert_exporter": "python",
   "pygments_lexer": "ipython3",
   "version": "3.7.10"
  }
 },
 "nbformat": 4,
 "nbformat_minor": 5
}
